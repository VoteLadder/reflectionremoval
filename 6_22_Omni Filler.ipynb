{
 "cells": [
  {
   "cell_type": "code",
   "execution_count": 1,
   "id": "fb21006a-a631-4d4c-930c-92ee930e81ee",
   "metadata": {
    "tags": []
   },
   "outputs": [
    {
     "name": "stdout",
     "output_type": "stream",
     "text": [
      "Using device: cuda\n",
      "Loading and preprocessing video frames...\n",
      "Loaded 1548 frames.\n",
      "Finding initial best keyframe from first few seconds...\n",
      "Initial keyframe found with sharpness score: 0.00 from first 5 seconds\n"
     ]
    },
    {
     "name": "stderr",
     "output_type": "stream",
     "text": [
      "Downloading: \"https://download.pytorch.org/models/vgg19-dcbb9e9d.pth\" to /root/.cache/torch/hub/checkpoints/vgg19-dcbb9e9d.pth\n",
      "100%|██████████| 548M/548M [00:01<00:00, 298MB/s]  \n"
     ]
    },
    {
     "data": {
      "application/vnd.jupyter.widget-view+json": {
       "model_id": "f0c1f5bbeaeb41df9ae94337176e53c3",
       "version_major": 2,
       "version_minor": 0
      },
      "text/plain": [
       "Epoch 1/50 [T]:   0%|          | 0/613 [00:00<?, ?it/s]"
      ]
     },
     "metadata": {},
     "output_type": "display_data"
    },
    {
     "data": {
      "application/vnd.jupyter.widget-view+json": {
       "model_id": "5e4d6a1e58f14243a95607202491c45b",
       "version_major": 2,
       "version_minor": 0
      },
      "text/plain": [
       "Epoch 1/50 [V]:   0%|          | 0/149 [00:00<?, ?it/s]"
      ]
     },
     "metadata": {},
     "output_type": "display_data"
    },
    {
     "name": "stdout",
     "output_type": "stream",
     "text": [
      "Saved fixed sample to outputs/epoch_1/fixed_sample.png\n",
      "New keyframe found with score: 0.00. Updating datasets.\n",
      "Epoch 1/50 -> Train Loss: 0.0303, Val Loss: 0.0227\n"
     ]
    },
    {
     "data": {
      "application/vnd.jupyter.widget-view+json": {
       "model_id": "e8a0964bf36f40c5a5b5f600a51a01dd",
       "version_major": 2,
       "version_minor": 0
      },
      "text/plain": [
       "Epoch 2/50 [T]:   0%|          | 0/613 [00:00<?, ?it/s]"
      ]
     },
     "metadata": {},
     "output_type": "display_data"
    },
    {
     "data": {
      "application/vnd.jupyter.widget-view+json": {
       "model_id": "94a251af767b4cb3bcd9be3d891f8fba",
       "version_major": 2,
       "version_minor": 0
      },
      "text/plain": [
       "Epoch 2/50 [V]:   0%|          | 0/149 [00:00<?, ?it/s]"
      ]
     },
     "metadata": {},
     "output_type": "display_data"
    },
    {
     "name": "stdout",
     "output_type": "stream",
     "text": [
      "Saved fixed sample to outputs/epoch_2/fixed_sample.png\n",
      "Epoch 2/50 -> Train Loss: 0.0156, Val Loss: 0.0189\n"
     ]
    },
    {
     "data": {
      "application/vnd.jupyter.widget-view+json": {
       "model_id": "b3860ede1782441d8ad1ab127e7719e7",
       "version_major": 2,
       "version_minor": 0
      },
      "text/plain": [
       "Epoch 3/50 [T]:   0%|          | 0/613 [00:00<?, ?it/s]"
      ]
     },
     "metadata": {},
     "output_type": "display_data"
    },
    {
     "data": {
      "application/vnd.jupyter.widget-view+json": {
       "model_id": "ee7d95154d8f4ac0b341d509d405403e",
       "version_major": 2,
       "version_minor": 0
      },
      "text/plain": [
       "Epoch 3/50 [V]:   0%|          | 0/149 [00:00<?, ?it/s]"
      ]
     },
     "metadata": {},
     "output_type": "display_data"
    },
    {
     "name": "stdout",
     "output_type": "stream",
     "text": [
      "Saved fixed sample to outputs/epoch_3/fixed_sample.png\n",
      "Epoch 3/50 -> Train Loss: 0.0136, Val Loss: 0.0172\n"
     ]
    },
    {
     "data": {
      "application/vnd.jupyter.widget-view+json": {
       "model_id": "accae4b88b2b4c87a51ae0a972c452c3",
       "version_major": 2,
       "version_minor": 0
      },
      "text/plain": [
       "Epoch 4/50 [T]:   0%|          | 0/613 [00:00<?, ?it/s]"
      ]
     },
     "metadata": {},
     "output_type": "display_data"
    },
    {
     "data": {
      "application/vnd.jupyter.widget-view+json": {
       "model_id": "ef93d76dafa24aae9bff0244bb864b58",
       "version_major": 2,
       "version_minor": 0
      },
      "text/plain": [
       "Epoch 4/50 [V]:   0%|          | 0/149 [00:00<?, ?it/s]"
      ]
     },
     "metadata": {},
     "output_type": "display_data"
    },
    {
     "name": "stdout",
     "output_type": "stream",
     "text": [
      "Saved fixed sample to outputs/epoch_4/fixed_sample.png\n",
      "Epoch 4/50 -> Train Loss: 0.0125, Val Loss: 0.0184\n"
     ]
    },
    {
     "data": {
      "application/vnd.jupyter.widget-view+json": {
       "model_id": "44fa6ce326aa4d1aa179fd545143a68c",
       "version_major": 2,
       "version_minor": 0
      },
      "text/plain": [
       "Epoch 5/50 [T]:   0%|          | 0/613 [00:00<?, ?it/s]"
      ]
     },
     "metadata": {},
     "output_type": "display_data"
    },
    {
     "data": {
      "application/vnd.jupyter.widget-view+json": {
       "model_id": "e384a7bc27124fa984e15a76a5404983",
       "version_major": 2,
       "version_minor": 0
      },
      "text/plain": [
       "Epoch 5/50 [V]:   0%|          | 0/149 [00:00<?, ?it/s]"
      ]
     },
     "metadata": {},
     "output_type": "display_data"
    },
    {
     "name": "stdout",
     "output_type": "stream",
     "text": [
      "Saved fixed sample to outputs/epoch_5/fixed_sample.png\n",
      "Epoch 5/50 -> Train Loss: 0.0119, Val Loss: 0.0161\n"
     ]
    },
    {
     "data": {
      "application/vnd.jupyter.widget-view+json": {
       "model_id": "83fbfff6da6446b4b9c69cac83342f55",
       "version_major": 2,
       "version_minor": 0
      },
      "text/plain": [
       "Epoch 6/50 [T]:   0%|          | 0/613 [00:00<?, ?it/s]"
      ]
     },
     "metadata": {},
     "output_type": "display_data"
    },
    {
     "data": {
      "application/vnd.jupyter.widget-view+json": {
       "model_id": "5d3cba57243b4d85a045c42dac090037",
       "version_major": 2,
       "version_minor": 0
      },
      "text/plain": [
       "Epoch 6/50 [V]:   0%|          | 0/149 [00:00<?, ?it/s]"
      ]
     },
     "metadata": {},
     "output_type": "display_data"
    },
    {
     "name": "stdout",
     "output_type": "stream",
     "text": [
      "Saved fixed sample to outputs/epoch_6/fixed_sample.png\n",
      "Epoch 6/50 -> Train Loss: 0.0114, Val Loss: 0.0149\n"
     ]
    },
    {
     "data": {
      "application/vnd.jupyter.widget-view+json": {
       "model_id": "b057d583715f41939fda84d330bb8e3d",
       "version_major": 2,
       "version_minor": 0
      },
      "text/plain": [
       "Epoch 7/50 [T]:   0%|          | 0/613 [00:00<?, ?it/s]"
      ]
     },
     "metadata": {},
     "output_type": "display_data"
    },
    {
     "data": {
      "application/vnd.jupyter.widget-view+json": {
       "model_id": "5b841a0946e04f42905392bfd01fce07",
       "version_major": 2,
       "version_minor": 0
      },
      "text/plain": [
       "Epoch 7/50 [V]:   0%|          | 0/149 [00:00<?, ?it/s]"
      ]
     },
     "metadata": {},
     "output_type": "display_data"
    },
    {
     "name": "stdout",
     "output_type": "stream",
     "text": [
      "Saved fixed sample to outputs/epoch_7/fixed_sample.png\n",
      "Epoch 7/50 -> Train Loss: 0.0110, Val Loss: 0.0140\n"
     ]
    },
    {
     "data": {
      "application/vnd.jupyter.widget-view+json": {
       "model_id": "9b319935556146c29fb342f2d30dd5e2",
       "version_major": 2,
       "version_minor": 0
      },
      "text/plain": [
       "Epoch 8/50 [T]:   0%|          | 0/613 [00:00<?, ?it/s]"
      ]
     },
     "metadata": {},
     "output_type": "display_data"
    },
    {
     "data": {
      "application/vnd.jupyter.widget-view+json": {
       "model_id": "aaea0ff3a13f43cfb58572bef640e063",
       "version_major": 2,
       "version_minor": 0
      },
      "text/plain": [
       "Epoch 8/50 [V]:   0%|          | 0/149 [00:00<?, ?it/s]"
      ]
     },
     "metadata": {},
     "output_type": "display_data"
    },
    {
     "name": "stdout",
     "output_type": "stream",
     "text": [
      "Saved fixed sample to outputs/epoch_8/fixed_sample.png\n",
      "Epoch 8/50 -> Train Loss: 0.0102, Val Loss: 0.0137\n"
     ]
    },
    {
     "data": {
      "application/vnd.jupyter.widget-view+json": {
       "model_id": "443f9c3e37034137a66d4c5d3fd1f4aa",
       "version_major": 2,
       "version_minor": 0
      },
      "text/plain": [
       "Epoch 9/50 [T]:   0%|          | 0/613 [00:00<?, ?it/s]"
      ]
     },
     "metadata": {},
     "output_type": "display_data"
    },
    {
     "data": {
      "application/vnd.jupyter.widget-view+json": {
       "model_id": "7f1d3410393c40dfb00608baa9943dc6",
       "version_major": 2,
       "version_minor": 0
      },
      "text/plain": [
       "Epoch 9/50 [V]:   0%|          | 0/149 [00:00<?, ?it/s]"
      ]
     },
     "metadata": {},
     "output_type": "display_data"
    },
    {
     "name": "stdout",
     "output_type": "stream",
     "text": [
      "Saved fixed sample to outputs/epoch_9/fixed_sample.png\n",
      "Epoch 9/50 -> Train Loss: 0.0095, Val Loss: 0.0135\n"
     ]
    },
    {
     "data": {
      "application/vnd.jupyter.widget-view+json": {
       "model_id": "77504039a0254f9c837a06403ec6971f",
       "version_major": 2,
       "version_minor": 0
      },
      "text/plain": [
       "Epoch 10/50 [T]:   0%|          | 0/613 [00:00<?, ?it/s]"
      ]
     },
     "metadata": {},
     "output_type": "display_data"
    },
    {
     "data": {
      "application/vnd.jupyter.widget-view+json": {
       "model_id": "a18defb76c474d8ba52180b2fb8e0bdb",
       "version_major": 2,
       "version_minor": 0
      },
      "text/plain": [
       "Epoch 10/50 [V]:   0%|          | 0/149 [00:00<?, ?it/s]"
      ]
     },
     "metadata": {},
     "output_type": "display_data"
    },
    {
     "name": "stdout",
     "output_type": "stream",
     "text": [
      "Saved fixed sample to outputs/epoch_10/fixed_sample.png\n",
      "Epoch 10/50 -> Train Loss: 0.0086, Val Loss: 0.0133\n"
     ]
    },
    {
     "data": {
      "application/vnd.jupyter.widget-view+json": {
       "model_id": "3956f31211ff42e6b9b9382655e4f5fc",
       "version_major": 2,
       "version_minor": 0
      },
      "text/plain": [
       "Epoch 11/50 [T]:   0%|          | 0/613 [00:00<?, ?it/s]"
      ]
     },
     "metadata": {},
     "output_type": "display_data"
    },
    {
     "data": {
      "application/vnd.jupyter.widget-view+json": {
       "model_id": "61a67953d77c46a3b46cb1b62e9b34ca",
       "version_major": 2,
       "version_minor": 0
      },
      "text/plain": [
       "Epoch 11/50 [V]:   0%|          | 0/149 [00:00<?, ?it/s]"
      ]
     },
     "metadata": {},
     "output_type": "display_data"
    },
    {
     "name": "stdout",
     "output_type": "stream",
     "text": [
      "Saved fixed sample to outputs/epoch_11/fixed_sample.png\n",
      "Epoch 11/50 -> Train Loss: 0.0083, Val Loss: 0.0125\n"
     ]
    },
    {
     "data": {
      "application/vnd.jupyter.widget-view+json": {
       "model_id": "a6e1ac363f674659b675e44c588838fc",
       "version_major": 2,
       "version_minor": 0
      },
      "text/plain": [
       "Epoch 12/50 [T]:   0%|          | 0/613 [00:00<?, ?it/s]"
      ]
     },
     "metadata": {},
     "output_type": "display_data"
    },
    {
     "data": {
      "application/vnd.jupyter.widget-view+json": {
       "model_id": "b7457c6b0d7249f1b21febb391bc810f",
       "version_major": 2,
       "version_minor": 0
      },
      "text/plain": [
       "Epoch 12/50 [V]:   0%|          | 0/149 [00:00<?, ?it/s]"
      ]
     },
     "metadata": {},
     "output_type": "display_data"
    },
    {
     "name": "stdout",
     "output_type": "stream",
     "text": [
      "Saved fixed sample to outputs/epoch_12/fixed_sample.png\n",
      "Epoch 12/50 -> Train Loss: 0.0079, Val Loss: 0.0126\n"
     ]
    },
    {
     "data": {
      "application/vnd.jupyter.widget-view+json": {
       "model_id": "bad5de631cee4d4eba9578ad6854fc3d",
       "version_major": 2,
       "version_minor": 0
      },
      "text/plain": [
       "Epoch 13/50 [T]:   0%|          | 0/613 [00:00<?, ?it/s]"
      ]
     },
     "metadata": {},
     "output_type": "display_data"
    },
    {
     "data": {
      "application/vnd.jupyter.widget-view+json": {
       "model_id": "8c4d57cea45a4b2f9d09f943b89658c3",
       "version_major": 2,
       "version_minor": 0
      },
      "text/plain": [
       "Epoch 13/50 [V]:   0%|          | 0/149 [00:00<?, ?it/s]"
      ]
     },
     "metadata": {},
     "output_type": "display_data"
    },
    {
     "name": "stdout",
     "output_type": "stream",
     "text": [
      "Saved fixed sample to outputs/epoch_13/fixed_sample.png\n",
      "Epoch 13/50 -> Train Loss: 0.0075, Val Loss: 0.0112\n"
     ]
    },
    {
     "data": {
      "application/vnd.jupyter.widget-view+json": {
       "model_id": "38a2668d57c94d9ba638e7383b959145",
       "version_major": 2,
       "version_minor": 0
      },
      "text/plain": [
       "Epoch 14/50 [T]:   0%|          | 0/613 [00:00<?, ?it/s]"
      ]
     },
     "metadata": {},
     "output_type": "display_data"
    },
    {
     "data": {
      "application/vnd.jupyter.widget-view+json": {
       "model_id": "6aed68e2997b4cdab1bf51d890ebb33e",
       "version_major": 2,
       "version_minor": 0
      },
      "text/plain": [
       "Epoch 14/50 [V]:   0%|          | 0/149 [00:00<?, ?it/s]"
      ]
     },
     "metadata": {},
     "output_type": "display_data"
    },
    {
     "name": "stdout",
     "output_type": "stream",
     "text": [
      "Saved fixed sample to outputs/epoch_14/fixed_sample.png\n",
      "Epoch 14/50 -> Train Loss: 0.0076, Val Loss: 0.0112\n"
     ]
    },
    {
     "data": {
      "application/vnd.jupyter.widget-view+json": {
       "model_id": "e0ab23f4c2574430872d4b412042cb21",
       "version_major": 2,
       "version_minor": 0
      },
      "text/plain": [
       "Epoch 15/50 [T]:   0%|          | 0/613 [00:00<?, ?it/s]"
      ]
     },
     "metadata": {},
     "output_type": "display_data"
    },
    {
     "data": {
      "application/vnd.jupyter.widget-view+json": {
       "model_id": "4648667851fc4ec8aa09034a7aa504bd",
       "version_major": 2,
       "version_minor": 0
      },
      "text/plain": [
       "Epoch 15/50 [V]:   0%|          | 0/149 [00:00<?, ?it/s]"
      ]
     },
     "metadata": {},
     "output_type": "display_data"
    },
    {
     "name": "stdout",
     "output_type": "stream",
     "text": [
      "Saved fixed sample to outputs/epoch_15/fixed_sample.png\n",
      "Epoch 15/50 -> Train Loss: 0.0073, Val Loss: 0.0111\n"
     ]
    },
    {
     "data": {
      "application/vnd.jupyter.widget-view+json": {
       "model_id": "967870894cb9454a8900310174407457",
       "version_major": 2,
       "version_minor": 0
      },
      "text/plain": [
       "Epoch 16/50 [T]:   0%|          | 0/613 [00:00<?, ?it/s]"
      ]
     },
     "metadata": {},
     "output_type": "display_data"
    },
    {
     "data": {
      "application/vnd.jupyter.widget-view+json": {
       "model_id": "b1f42856e4064e0d9908407f3fab0f1e",
       "version_major": 2,
       "version_minor": 0
      },
      "text/plain": [
       "Epoch 16/50 [V]:   0%|          | 0/149 [00:00<?, ?it/s]"
      ]
     },
     "metadata": {},
     "output_type": "display_data"
    },
    {
     "name": "stdout",
     "output_type": "stream",
     "text": [
      "Saved fixed sample to outputs/epoch_16/fixed_sample.png\n",
      "Epoch 16/50 -> Train Loss: 0.0071, Val Loss: 0.0104\n"
     ]
    },
    {
     "data": {
      "application/vnd.jupyter.widget-view+json": {
       "model_id": "26807991063a40a98af397476db68eaa",
       "version_major": 2,
       "version_minor": 0
      },
      "text/plain": [
       "Epoch 17/50 [T]:   0%|          | 0/613 [00:00<?, ?it/s]"
      ]
     },
     "metadata": {},
     "output_type": "display_data"
    },
    {
     "data": {
      "application/vnd.jupyter.widget-view+json": {
       "model_id": "ffbf4b24200f41d2a2e8aa191d35c1f4",
       "version_major": 2,
       "version_minor": 0
      },
      "text/plain": [
       "Epoch 17/50 [V]:   0%|          | 0/149 [00:00<?, ?it/s]"
      ]
     },
     "metadata": {},
     "output_type": "display_data"
    },
    {
     "name": "stdout",
     "output_type": "stream",
     "text": [
      "Saved fixed sample to outputs/epoch_17/fixed_sample.png\n",
      "Epoch 17/50 -> Train Loss: 0.0070, Val Loss: 0.0100\n"
     ]
    },
    {
     "data": {
      "application/vnd.jupyter.widget-view+json": {
       "model_id": "a892aa12ceca488185f27590ee3885ec",
       "version_major": 2,
       "version_minor": 0
      },
      "text/plain": [
       "Epoch 18/50 [T]:   0%|          | 0/613 [00:00<?, ?it/s]"
      ]
     },
     "metadata": {},
     "output_type": "display_data"
    },
    {
     "data": {
      "application/vnd.jupyter.widget-view+json": {
       "model_id": "f1cbd4157bbd4c8f8d741fd60cd7b85e",
       "version_major": 2,
       "version_minor": 0
      },
      "text/plain": [
       "Epoch 18/50 [V]:   0%|          | 0/149 [00:00<?, ?it/s]"
      ]
     },
     "metadata": {},
     "output_type": "display_data"
    },
    {
     "name": "stdout",
     "output_type": "stream",
     "text": [
      "Saved fixed sample to outputs/epoch_18/fixed_sample.png\n",
      "Epoch 18/50 -> Train Loss: 0.0068, Val Loss: 0.0101\n"
     ]
    },
    {
     "data": {
      "application/vnd.jupyter.widget-view+json": {
       "model_id": "fb36d798a79e42dfab9733f0745ff24c",
       "version_major": 2,
       "version_minor": 0
      },
      "text/plain": [
       "Epoch 19/50 [T]:   0%|          | 0/613 [00:00<?, ?it/s]"
      ]
     },
     "metadata": {},
     "output_type": "display_data"
    },
    {
     "data": {
      "application/vnd.jupyter.widget-view+json": {
       "model_id": "9ee4dcf2a81640348bd3b206ffe87307",
       "version_major": 2,
       "version_minor": 0
      },
      "text/plain": [
       "Epoch 19/50 [V]:   0%|          | 0/149 [00:00<?, ?it/s]"
      ]
     },
     "metadata": {},
     "output_type": "display_data"
    },
    {
     "name": "stdout",
     "output_type": "stream",
     "text": [
      "Saved fixed sample to outputs/epoch_19/fixed_sample.png\n",
      "Epoch 19/50 -> Train Loss: 0.0066, Val Loss: 0.0103\n"
     ]
    },
    {
     "data": {
      "application/vnd.jupyter.widget-view+json": {
       "model_id": "e9267b2cf65741cfb0ea74307bafa743",
       "version_major": 2,
       "version_minor": 0
      },
      "text/plain": [
       "Epoch 20/50 [T]:   0%|          | 0/613 [00:00<?, ?it/s]"
      ]
     },
     "metadata": {},
     "output_type": "display_data"
    },
    {
     "data": {
      "application/vnd.jupyter.widget-view+json": {
       "model_id": "6b1b95ff90754eae8dcd73129154365e",
       "version_major": 2,
       "version_minor": 0
      },
      "text/plain": [
       "Epoch 20/50 [V]:   0%|          | 0/149 [00:00<?, ?it/s]"
      ]
     },
     "metadata": {},
     "output_type": "display_data"
    },
    {
     "name": "stdout",
     "output_type": "stream",
     "text": [
      "Saved fixed sample to outputs/epoch_20/fixed_sample.png\n",
      "Epoch 20/50 -> Train Loss: 0.0066, Val Loss: 0.0098\n"
     ]
    },
    {
     "data": {
      "application/vnd.jupyter.widget-view+json": {
       "model_id": "ed0ce41d5b95448ebd81f300330910ea",
       "version_major": 2,
       "version_minor": 0
      },
      "text/plain": [
       "Epoch 21/50 [T]:   0%|          | 0/613 [00:00<?, ?it/s]"
      ]
     },
     "metadata": {},
     "output_type": "display_data"
    },
    {
     "data": {
      "application/vnd.jupyter.widget-view+json": {
       "model_id": "f115f1d1753840c8a6be2d636d6c9749",
       "version_major": 2,
       "version_minor": 0
      },
      "text/plain": [
       "Epoch 21/50 [V]:   0%|          | 0/149 [00:00<?, ?it/s]"
      ]
     },
     "metadata": {},
     "output_type": "display_data"
    },
    {
     "name": "stdout",
     "output_type": "stream",
     "text": [
      "Saved fixed sample to outputs/epoch_21/fixed_sample.png\n",
      "Epoch 21/50 -> Train Loss: 0.0065, Val Loss: 0.0096\n"
     ]
    },
    {
     "data": {
      "application/vnd.jupyter.widget-view+json": {
       "model_id": "5b3eb26259864cca880cc18cff185c78",
       "version_major": 2,
       "version_minor": 0
      },
      "text/plain": [
       "Epoch 22/50 [T]:   0%|          | 0/613 [00:00<?, ?it/s]"
      ]
     },
     "metadata": {},
     "output_type": "display_data"
    },
    {
     "data": {
      "application/vnd.jupyter.widget-view+json": {
       "model_id": "4bf4d0b9a36e42529eb69cdcac19cfd1",
       "version_major": 2,
       "version_minor": 0
      },
      "text/plain": [
       "Epoch 22/50 [V]:   0%|          | 0/149 [00:00<?, ?it/s]"
      ]
     },
     "metadata": {},
     "output_type": "display_data"
    },
    {
     "name": "stdout",
     "output_type": "stream",
     "text": [
      "Saved fixed sample to outputs/epoch_22/fixed_sample.png\n",
      "Epoch 22/50 -> Train Loss: 0.0063, Val Loss: 0.0093\n"
     ]
    },
    {
     "data": {
      "application/vnd.jupyter.widget-view+json": {
       "model_id": "594dbf4cb4e744f2baf376ff4bfe6dc3",
       "version_major": 2,
       "version_minor": 0
      },
      "text/plain": [
       "Epoch 23/50 [T]:   0%|          | 0/613 [00:00<?, ?it/s]"
      ]
     },
     "metadata": {},
     "output_type": "display_data"
    },
    {
     "data": {
      "application/vnd.jupyter.widget-view+json": {
       "model_id": "f6777974c5594e898702a609f8b9b46f",
       "version_major": 2,
       "version_minor": 0
      },
      "text/plain": [
       "Epoch 23/50 [V]:   0%|          | 0/149 [00:00<?, ?it/s]"
      ]
     },
     "metadata": {},
     "output_type": "display_data"
    },
    {
     "name": "stdout",
     "output_type": "stream",
     "text": [
      "Saved fixed sample to outputs/epoch_23/fixed_sample.png\n",
      "Epoch 23/50 -> Train Loss: 0.0062, Val Loss: 0.0095\n"
     ]
    },
    {
     "data": {
      "application/vnd.jupyter.widget-view+json": {
       "model_id": "01e818861b3a4b7dad99fd344ae270e5",
       "version_major": 2,
       "version_minor": 0
      },
      "text/plain": [
       "Epoch 24/50 [T]:   0%|          | 0/613 [00:00<?, ?it/s]"
      ]
     },
     "metadata": {},
     "output_type": "display_data"
    },
    {
     "data": {
      "application/vnd.jupyter.widget-view+json": {
       "model_id": "80a6eda8986944e28e49d26aae96f635",
       "version_major": 2,
       "version_minor": 0
      },
      "text/plain": [
       "Epoch 24/50 [V]:   0%|          | 0/149 [00:00<?, ?it/s]"
      ]
     },
     "metadata": {},
     "output_type": "display_data"
    },
    {
     "name": "stdout",
     "output_type": "stream",
     "text": [
      "Saved fixed sample to outputs/epoch_24/fixed_sample.png\n",
      "Epoch 24/50 -> Train Loss: 0.0063, Val Loss: 0.0091\n"
     ]
    },
    {
     "data": {
      "application/vnd.jupyter.widget-view+json": {
       "model_id": "16ad7da052ec4fcdb4830c0496256575",
       "version_major": 2,
       "version_minor": 0
      },
      "text/plain": [
       "Epoch 25/50 [T]:   0%|          | 0/613 [00:00<?, ?it/s]"
      ]
     },
     "metadata": {},
     "output_type": "display_data"
    },
    {
     "data": {
      "application/vnd.jupyter.widget-view+json": {
       "model_id": "b7e2f930799d4b3b9c1cc1bcdaaae3fe",
       "version_major": 2,
       "version_minor": 0
      },
      "text/plain": [
       "Epoch 25/50 [V]:   0%|          | 0/149 [00:00<?, ?it/s]"
      ]
     },
     "metadata": {},
     "output_type": "display_data"
    },
    {
     "name": "stdout",
     "output_type": "stream",
     "text": [
      "Saved fixed sample to outputs/epoch_25/fixed_sample.png\n",
      "Epoch 25/50 -> Train Loss: 0.0060, Val Loss: 0.0094\n"
     ]
    },
    {
     "data": {
      "application/vnd.jupyter.widget-view+json": {
       "model_id": "37cc52e6a1f9453ebdfd025d837435c6",
       "version_major": 2,
       "version_minor": 0
      },
      "text/plain": [
       "Epoch 26/50 [T]:   0%|          | 0/613 [00:00<?, ?it/s]"
      ]
     },
     "metadata": {},
     "output_type": "display_data"
    },
    {
     "data": {
      "application/vnd.jupyter.widget-view+json": {
       "model_id": "424e9d60285543a48d5e543cb8236fd4",
       "version_major": 2,
       "version_minor": 0
      },
      "text/plain": [
       "Epoch 26/50 [V]:   0%|          | 0/149 [00:00<?, ?it/s]"
      ]
     },
     "metadata": {},
     "output_type": "display_data"
    },
    {
     "name": "stdout",
     "output_type": "stream",
     "text": [
      "Saved fixed sample to outputs/epoch_26/fixed_sample.png\n",
      "Epoch 26/50 -> Train Loss: 0.0061, Val Loss: 0.0093\n"
     ]
    },
    {
     "data": {
      "application/vnd.jupyter.widget-view+json": {
       "model_id": "30269b009a934daa8e37a82fa055dd3e",
       "version_major": 2,
       "version_minor": 0
      },
      "text/plain": [
       "Epoch 27/50 [T]:   0%|          | 0/613 [00:00<?, ?it/s]"
      ]
     },
     "metadata": {},
     "output_type": "display_data"
    },
    {
     "data": {
      "application/vnd.jupyter.widget-view+json": {
       "model_id": "d5656027d78046d39e750361538b1def",
       "version_major": 2,
       "version_minor": 0
      },
      "text/plain": [
       "Epoch 27/50 [V]:   0%|          | 0/149 [00:00<?, ?it/s]"
      ]
     },
     "metadata": {},
     "output_type": "display_data"
    },
    {
     "name": "stdout",
     "output_type": "stream",
     "text": [
      "Saved fixed sample to outputs/epoch_27/fixed_sample.png\n",
      "Epoch 27/50 -> Train Loss: 0.0059, Val Loss: 0.0091\n"
     ]
    },
    {
     "data": {
      "application/vnd.jupyter.widget-view+json": {
       "model_id": "464967bb5d0c427d8c11d4705577f45f",
       "version_major": 2,
       "version_minor": 0
      },
      "text/plain": [
       "Epoch 28/50 [T]:   0%|          | 0/613 [00:00<?, ?it/s]"
      ]
     },
     "metadata": {},
     "output_type": "display_data"
    },
    {
     "data": {
      "application/vnd.jupyter.widget-view+json": {
       "model_id": "9cb1805cd4c0461fb43f0949c1a38dbb",
       "version_major": 2,
       "version_minor": 0
      },
      "text/plain": [
       "Epoch 28/50 [V]:   0%|          | 0/149 [00:00<?, ?it/s]"
      ]
     },
     "metadata": {},
     "output_type": "display_data"
    },
    {
     "name": "stdout",
     "output_type": "stream",
     "text": [
      "Saved fixed sample to outputs/epoch_28/fixed_sample.png\n",
      "Epoch 28/50 -> Train Loss: 0.0059, Val Loss: 0.0087\n"
     ]
    },
    {
     "data": {
      "application/vnd.jupyter.widget-view+json": {
       "model_id": "9de06733b27448a8b14b4d081a7400ce",
       "version_major": 2,
       "version_minor": 0
      },
      "text/plain": [
       "Epoch 29/50 [T]:   0%|          | 0/613 [00:00<?, ?it/s]"
      ]
     },
     "metadata": {},
     "output_type": "display_data"
    },
    {
     "data": {
      "application/vnd.jupyter.widget-view+json": {
       "model_id": "bdedef9ae95c458c876035c305275081",
       "version_major": 2,
       "version_minor": 0
      },
      "text/plain": [
       "Epoch 29/50 [V]:   0%|          | 0/149 [00:00<?, ?it/s]"
      ]
     },
     "metadata": {},
     "output_type": "display_data"
    },
    {
     "name": "stdout",
     "output_type": "stream",
     "text": [
      "Saved fixed sample to outputs/epoch_29/fixed_sample.png\n",
      "Epoch 29/50 -> Train Loss: 0.0058, Val Loss: 0.0087\n"
     ]
    },
    {
     "data": {
      "application/vnd.jupyter.widget-view+json": {
       "model_id": "33156b3d19d544c9ad2f43783efef0e0",
       "version_major": 2,
       "version_minor": 0
      },
      "text/plain": [
       "Epoch 30/50 [T]:   0%|          | 0/613 [00:00<?, ?it/s]"
      ]
     },
     "metadata": {},
     "output_type": "display_data"
    },
    {
     "data": {
      "application/vnd.jupyter.widget-view+json": {
       "model_id": "cc2099f5bbd34e48ad9e36cf7a406485",
       "version_major": 2,
       "version_minor": 0
      },
      "text/plain": [
       "Epoch 30/50 [V]:   0%|          | 0/149 [00:00<?, ?it/s]"
      ]
     },
     "metadata": {},
     "output_type": "display_data"
    },
    {
     "name": "stdout",
     "output_type": "stream",
     "text": [
      "Saved fixed sample to outputs/epoch_30/fixed_sample.png\n",
      "Epoch 30/50 -> Train Loss: 0.0058, Val Loss: 0.0087\n"
     ]
    },
    {
     "data": {
      "application/vnd.jupyter.widget-view+json": {
       "model_id": "3c7abdb9af6148f78c4276fd1e48ea12",
       "version_major": 2,
       "version_minor": 0
      },
      "text/plain": [
       "Epoch 31/50 [T]:   0%|          | 0/613 [00:00<?, ?it/s]"
      ]
     },
     "metadata": {},
     "output_type": "display_data"
    },
    {
     "data": {
      "application/vnd.jupyter.widget-view+json": {
       "model_id": "f12e6263827b445990c3543faaa559dc",
       "version_major": 2,
       "version_minor": 0
      },
      "text/plain": [
       "Epoch 31/50 [V]:   0%|          | 0/149 [00:00<?, ?it/s]"
      ]
     },
     "metadata": {},
     "output_type": "display_data"
    },
    {
     "name": "stdout",
     "output_type": "stream",
     "text": [
      "Saved fixed sample to outputs/epoch_31/fixed_sample.png\n",
      "Epoch 31/50 -> Train Loss: 0.0058, Val Loss: 0.0087\n"
     ]
    },
    {
     "data": {
      "application/vnd.jupyter.widget-view+json": {
       "model_id": "10e917adbb824ff5a42257fa35420ac3",
       "version_major": 2,
       "version_minor": 0
      },
      "text/plain": [
       "Epoch 32/50 [T]:   0%|          | 0/613 [00:00<?, ?it/s]"
      ]
     },
     "metadata": {},
     "output_type": "display_data"
    },
    {
     "data": {
      "application/vnd.jupyter.widget-view+json": {
       "model_id": "e28bc6314d564156aa4d507128609f8c",
       "version_major": 2,
       "version_minor": 0
      },
      "text/plain": [
       "Epoch 32/50 [V]:   0%|          | 0/149 [00:00<?, ?it/s]"
      ]
     },
     "metadata": {},
     "output_type": "display_data"
    },
    {
     "name": "stdout",
     "output_type": "stream",
     "text": [
      "Saved fixed sample to outputs/epoch_32/fixed_sample.png\n",
      "Epoch 32/50 -> Train Loss: 0.0058, Val Loss: 0.0083\n"
     ]
    },
    {
     "data": {
      "application/vnd.jupyter.widget-view+json": {
       "model_id": "dd3c0a1dbc8448a19b8952cde9728e30",
       "version_major": 2,
       "version_minor": 0
      },
      "text/plain": [
       "Epoch 33/50 [T]:   0%|          | 0/613 [00:00<?, ?it/s]"
      ]
     },
     "metadata": {},
     "output_type": "display_data"
    },
    {
     "data": {
      "application/vnd.jupyter.widget-view+json": {
       "model_id": "2f4d8d655a984eadbdd25e53feae2538",
       "version_major": 2,
       "version_minor": 0
      },
      "text/plain": [
       "Epoch 33/50 [V]:   0%|          | 0/149 [00:00<?, ?it/s]"
      ]
     },
     "metadata": {},
     "output_type": "display_data"
    },
    {
     "name": "stdout",
     "output_type": "stream",
     "text": [
      "Saved fixed sample to outputs/epoch_33/fixed_sample.png\n",
      "Epoch 33/50 -> Train Loss: 0.0057, Val Loss: 0.0084\n"
     ]
    },
    {
     "data": {
      "application/vnd.jupyter.widget-view+json": {
       "model_id": "d913e11bfc6d404da3390687bfa9bc3a",
       "version_major": 2,
       "version_minor": 0
      },
      "text/plain": [
       "Epoch 34/50 [T]:   0%|          | 0/613 [00:00<?, ?it/s]"
      ]
     },
     "metadata": {},
     "output_type": "display_data"
    },
    {
     "data": {
      "application/vnd.jupyter.widget-view+json": {
       "model_id": "8d9f16a5eebe4f998af6e5ae22f63ed6",
       "version_major": 2,
       "version_minor": 0
      },
      "text/plain": [
       "Epoch 34/50 [V]:   0%|          | 0/149 [00:00<?, ?it/s]"
      ]
     },
     "metadata": {},
     "output_type": "display_data"
    },
    {
     "name": "stdout",
     "output_type": "stream",
     "text": [
      "Saved fixed sample to outputs/epoch_34/fixed_sample.png\n",
      "Epoch 34/50 -> Train Loss: 0.0057, Val Loss: 0.0086\n"
     ]
    },
    {
     "data": {
      "application/vnd.jupyter.widget-view+json": {
       "model_id": "3edd9681ece144e19870fafe51f4ce54",
       "version_major": 2,
       "version_minor": 0
      },
      "text/plain": [
       "Epoch 35/50 [T]:   0%|          | 0/613 [00:00<?, ?it/s]"
      ]
     },
     "metadata": {},
     "output_type": "display_data"
    },
    {
     "data": {
      "application/vnd.jupyter.widget-view+json": {
       "model_id": "c8d38c356c5d4286aa3ee5f0a839fedb",
       "version_major": 2,
       "version_minor": 0
      },
      "text/plain": [
       "Epoch 35/50 [V]:   0%|          | 0/149 [00:00<?, ?it/s]"
      ]
     },
     "metadata": {},
     "output_type": "display_data"
    },
    {
     "name": "stdout",
     "output_type": "stream",
     "text": [
      "Saved fixed sample to outputs/epoch_35/fixed_sample.png\n",
      "Epoch 35/50 -> Train Loss: 0.0057, Val Loss: 0.0082\n"
     ]
    },
    {
     "data": {
      "application/vnd.jupyter.widget-view+json": {
       "model_id": "3bf16c8839ea4101b56d3382ed2afc4b",
       "version_major": 2,
       "version_minor": 0
      },
      "text/plain": [
       "Epoch 36/50 [T]:   0%|          | 0/613 [00:00<?, ?it/s]"
      ]
     },
     "metadata": {},
     "output_type": "display_data"
    },
    {
     "data": {
      "application/vnd.jupyter.widget-view+json": {
       "model_id": "03bdbe756bd14870880ca7787cf14df1",
       "version_major": 2,
       "version_minor": 0
      },
      "text/plain": [
       "Epoch 36/50 [V]:   0%|          | 0/149 [00:00<?, ?it/s]"
      ]
     },
     "metadata": {},
     "output_type": "display_data"
    },
    {
     "name": "stdout",
     "output_type": "stream",
     "text": [
      "Saved fixed sample to outputs/epoch_36/fixed_sample.png\n",
      "Epoch 36/50 -> Train Loss: 0.0055, Val Loss: 0.0084\n"
     ]
    },
    {
     "data": {
      "application/vnd.jupyter.widget-view+json": {
       "model_id": "3e8252407fc14be6a7c7598b929ffbec",
       "version_major": 2,
       "version_minor": 0
      },
      "text/plain": [
       "Epoch 37/50 [T]:   0%|          | 0/613 [00:00<?, ?it/s]"
      ]
     },
     "metadata": {},
     "output_type": "display_data"
    },
    {
     "data": {
      "application/vnd.jupyter.widget-view+json": {
       "model_id": "6545eb33b308488b9ad62228defb0998",
       "version_major": 2,
       "version_minor": 0
      },
      "text/plain": [
       "Epoch 37/50 [V]:   0%|          | 0/149 [00:00<?, ?it/s]"
      ]
     },
     "metadata": {},
     "output_type": "display_data"
    },
    {
     "name": "stdout",
     "output_type": "stream",
     "text": [
      "Saved fixed sample to outputs/epoch_37/fixed_sample.png\n",
      "Epoch 37/50 -> Train Loss: 0.0055, Val Loss: 0.0082\n"
     ]
    },
    {
     "data": {
      "application/vnd.jupyter.widget-view+json": {
       "model_id": "6d120cfb45d24582a1f0cb952c18d92b",
       "version_major": 2,
       "version_minor": 0
      },
      "text/plain": [
       "Epoch 38/50 [T]:   0%|          | 0/613 [00:00<?, ?it/s]"
      ]
     },
     "metadata": {},
     "output_type": "display_data"
    },
    {
     "data": {
      "application/vnd.jupyter.widget-view+json": {
       "model_id": "11339ed877494f5aa74270a3c40faf08",
       "version_major": 2,
       "version_minor": 0
      },
      "text/plain": [
       "Epoch 38/50 [V]:   0%|          | 0/149 [00:00<?, ?it/s]"
      ]
     },
     "metadata": {},
     "output_type": "display_data"
    },
    {
     "name": "stdout",
     "output_type": "stream",
     "text": [
      "Saved fixed sample to outputs/epoch_38/fixed_sample.png\n",
      "Epoch 38/50 -> Train Loss: 0.0055, Val Loss: 0.0084\n"
     ]
    },
    {
     "data": {
      "application/vnd.jupyter.widget-view+json": {
       "model_id": "e2d3e919c3a742418ba05067848bf4da",
       "version_major": 2,
       "version_minor": 0
      },
      "text/plain": [
       "Epoch 39/50 [T]:   0%|          | 0/613 [00:00<?, ?it/s]"
      ]
     },
     "metadata": {},
     "output_type": "display_data"
    },
    {
     "data": {
      "application/vnd.jupyter.widget-view+json": {
       "model_id": "8655046f1621404abe691bb569c84c9e",
       "version_major": 2,
       "version_minor": 0
      },
      "text/plain": [
       "Epoch 39/50 [V]:   0%|          | 0/149 [00:00<?, ?it/s]"
      ]
     },
     "metadata": {},
     "output_type": "display_data"
    },
    {
     "name": "stdout",
     "output_type": "stream",
     "text": [
      "Saved fixed sample to outputs/epoch_39/fixed_sample.png\n",
      "Epoch 39/50 -> Train Loss: 0.0054, Val Loss: 0.0084\n"
     ]
    },
    {
     "data": {
      "application/vnd.jupyter.widget-view+json": {
       "model_id": "62c390df6d284a859f09451778be035e",
       "version_major": 2,
       "version_minor": 0
      },
      "text/plain": [
       "Epoch 40/50 [T]:   0%|          | 0/613 [00:00<?, ?it/s]"
      ]
     },
     "metadata": {},
     "output_type": "display_data"
    },
    {
     "data": {
      "application/vnd.jupyter.widget-view+json": {
       "model_id": "7959ad06236d49c1950e76ead1aa7c3b",
       "version_major": 2,
       "version_minor": 0
      },
      "text/plain": [
       "Epoch 40/50 [V]:   0%|          | 0/149 [00:00<?, ?it/s]"
      ]
     },
     "metadata": {},
     "output_type": "display_data"
    },
    {
     "name": "stdout",
     "output_type": "stream",
     "text": [
      "Saved fixed sample to outputs/epoch_40/fixed_sample.png\n",
      "Epoch 40/50 -> Train Loss: 0.0053, Val Loss: 0.0083\n"
     ]
    },
    {
     "data": {
      "application/vnd.jupyter.widget-view+json": {
       "model_id": "4595521edd8844c7a6a6974eda1e6075",
       "version_major": 2,
       "version_minor": 0
      },
      "text/plain": [
       "Epoch 41/50 [T]:   0%|          | 0/613 [00:00<?, ?it/s]"
      ]
     },
     "metadata": {},
     "output_type": "display_data"
    },
    {
     "data": {
      "application/vnd.jupyter.widget-view+json": {
       "model_id": "aa17b0caeb7e4bc7886170b121b00182",
       "version_major": 2,
       "version_minor": 0
      },
      "text/plain": [
       "Epoch 41/50 [V]:   0%|          | 0/149 [00:00<?, ?it/s]"
      ]
     },
     "metadata": {},
     "output_type": "display_data"
    },
    {
     "name": "stdout",
     "output_type": "stream",
     "text": [
      "Saved fixed sample to outputs/epoch_41/fixed_sample.png\n",
      "Epoch 41/50 -> Train Loss: 0.0055, Val Loss: 0.0082\n"
     ]
    },
    {
     "data": {
      "application/vnd.jupyter.widget-view+json": {
       "model_id": "eee6facb13044d3f9d00a1f8fb4644df",
       "version_major": 2,
       "version_minor": 0
      },
      "text/plain": [
       "Epoch 42/50 [T]:   0%|          | 0/613 [00:00<?, ?it/s]"
      ]
     },
     "metadata": {},
     "output_type": "display_data"
    },
    {
     "data": {
      "application/vnd.jupyter.widget-view+json": {
       "model_id": "525ae2c2c22044b3ad525149bd0febaf",
       "version_major": 2,
       "version_minor": 0
      },
      "text/plain": [
       "Epoch 42/50 [V]:   0%|          | 0/149 [00:00<?, ?it/s]"
      ]
     },
     "metadata": {},
     "output_type": "display_data"
    },
    {
     "name": "stdout",
     "output_type": "stream",
     "text": [
      "Saved fixed sample to outputs/epoch_42/fixed_sample.png\n",
      "Epoch 42/50 -> Train Loss: 0.0053, Val Loss: 0.0078\n"
     ]
    },
    {
     "data": {
      "application/vnd.jupyter.widget-view+json": {
       "model_id": "e6fbc5629f5e406aab50a2aa2f35deca",
       "version_major": 2,
       "version_minor": 0
      },
      "text/plain": [
       "Epoch 43/50 [T]:   0%|          | 0/613 [00:00<?, ?it/s]"
      ]
     },
     "metadata": {},
     "output_type": "display_data"
    },
    {
     "data": {
      "application/vnd.jupyter.widget-view+json": {
       "model_id": "66bf7063921e416c87360b636d9635d2",
       "version_major": 2,
       "version_minor": 0
      },
      "text/plain": [
       "Epoch 43/50 [V]:   0%|          | 0/149 [00:00<?, ?it/s]"
      ]
     },
     "metadata": {},
     "output_type": "display_data"
    },
    {
     "name": "stdout",
     "output_type": "stream",
     "text": [
      "Saved fixed sample to outputs/epoch_43/fixed_sample.png\n",
      "Epoch 43/50 -> Train Loss: 0.0053, Val Loss: 0.0079\n"
     ]
    },
    {
     "data": {
      "application/vnd.jupyter.widget-view+json": {
       "model_id": "29712a0845e1400988cc35a6c9848de4",
       "version_major": 2,
       "version_minor": 0
      },
      "text/plain": [
       "Epoch 44/50 [T]:   0%|          | 0/613 [00:00<?, ?it/s]"
      ]
     },
     "metadata": {},
     "output_type": "display_data"
    },
    {
     "data": {
      "application/vnd.jupyter.widget-view+json": {
       "model_id": "75226d750f1a4deca2ae5eb9448b0b62",
       "version_major": 2,
       "version_minor": 0
      },
      "text/plain": [
       "Epoch 44/50 [V]:   0%|          | 0/149 [00:00<?, ?it/s]"
      ]
     },
     "metadata": {},
     "output_type": "display_data"
    },
    {
     "name": "stdout",
     "output_type": "stream",
     "text": [
      "Saved fixed sample to outputs/epoch_44/fixed_sample.png\n",
      "Epoch 44/50 -> Train Loss: 0.0053, Val Loss: 0.0080\n"
     ]
    },
    {
     "data": {
      "application/vnd.jupyter.widget-view+json": {
       "model_id": "2d4147599cf04620b8c5d5f05adca3b1",
       "version_major": 2,
       "version_minor": 0
      },
      "text/plain": [
       "Epoch 45/50 [T]:   0%|          | 0/613 [00:00<?, ?it/s]"
      ]
     },
     "metadata": {},
     "output_type": "display_data"
    },
    {
     "data": {
      "application/vnd.jupyter.widget-view+json": {
       "model_id": "e41b0d632ab247e495c2f8aa1208fa27",
       "version_major": 2,
       "version_minor": 0
      },
      "text/plain": [
       "Epoch 45/50 [V]:   0%|          | 0/149 [00:00<?, ?it/s]"
      ]
     },
     "metadata": {},
     "output_type": "display_data"
    },
    {
     "name": "stdout",
     "output_type": "stream",
     "text": [
      "Saved fixed sample to outputs/epoch_45/fixed_sample.png\n",
      "Epoch 45/50 -> Train Loss: 0.0054, Val Loss: 0.0083\n"
     ]
    },
    {
     "data": {
      "application/vnd.jupyter.widget-view+json": {
       "model_id": "b474164ca9e343129c8ca8e2ecbb2abf",
       "version_major": 2,
       "version_minor": 0
      },
      "text/plain": [
       "Epoch 46/50 [T]:   0%|          | 0/613 [00:00<?, ?it/s]"
      ]
     },
     "metadata": {},
     "output_type": "display_data"
    },
    {
     "data": {
      "application/vnd.jupyter.widget-view+json": {
       "model_id": "c7f4ccd4cfd44399bbbd817ed6142cda",
       "version_major": 2,
       "version_minor": 0
      },
      "text/plain": [
       "Epoch 46/50 [V]:   0%|          | 0/149 [00:00<?, ?it/s]"
      ]
     },
     "metadata": {},
     "output_type": "display_data"
    },
    {
     "name": "stdout",
     "output_type": "stream",
     "text": [
      "Saved fixed sample to outputs/epoch_46/fixed_sample.png\n",
      "Epoch 46/50 -> Train Loss: 0.0053, Val Loss: 0.0079\n"
     ]
    },
    {
     "data": {
      "application/vnd.jupyter.widget-view+json": {
       "model_id": "cde530e8d4ca4c2c80fc4f1820b177eb",
       "version_major": 2,
       "version_minor": 0
      },
      "text/plain": [
       "Epoch 47/50 [T]:   0%|          | 0/613 [00:00<?, ?it/s]"
      ]
     },
     "metadata": {},
     "output_type": "display_data"
    },
    {
     "data": {
      "application/vnd.jupyter.widget-view+json": {
       "model_id": "2b2da1e6cb954c70b70fc003063d28c4",
       "version_major": 2,
       "version_minor": 0
      },
      "text/plain": [
       "Epoch 47/50 [V]:   0%|          | 0/149 [00:00<?, ?it/s]"
      ]
     },
     "metadata": {},
     "output_type": "display_data"
    },
    {
     "name": "stdout",
     "output_type": "stream",
     "text": [
      "Saved fixed sample to outputs/epoch_47/fixed_sample.png\n",
      "Epoch 47/50 -> Train Loss: 0.0052, Val Loss: 0.0079\n"
     ]
    },
    {
     "data": {
      "application/vnd.jupyter.widget-view+json": {
       "model_id": "1c33a3ff44f64a27be62165d5ce791a6",
       "version_major": 2,
       "version_minor": 0
      },
      "text/plain": [
       "Epoch 48/50 [T]:   0%|          | 0/613 [00:00<?, ?it/s]"
      ]
     },
     "metadata": {},
     "output_type": "display_data"
    },
    {
     "data": {
      "application/vnd.jupyter.widget-view+json": {
       "model_id": "b19a0231975c404c8886f4c2aa445253",
       "version_major": 2,
       "version_minor": 0
      },
      "text/plain": [
       "Epoch 48/50 [V]:   0%|          | 0/149 [00:00<?, ?it/s]"
      ]
     },
     "metadata": {},
     "output_type": "display_data"
    },
    {
     "name": "stdout",
     "output_type": "stream",
     "text": [
      "Saved fixed sample to outputs/epoch_48/fixed_sample.png\n",
      "Epoch 48/50 -> Train Loss: 0.0052, Val Loss: 0.0077\n"
     ]
    },
    {
     "data": {
      "application/vnd.jupyter.widget-view+json": {
       "model_id": "408d06751adb4f60ad7a3ec156e6fd44",
       "version_major": 2,
       "version_minor": 0
      },
      "text/plain": [
       "Epoch 49/50 [T]:   0%|          | 0/613 [00:00<?, ?it/s]"
      ]
     },
     "metadata": {},
     "output_type": "display_data"
    },
    {
     "data": {
      "application/vnd.jupyter.widget-view+json": {
       "model_id": "36e7abd359c94602b0897f740ee44307",
       "version_major": 2,
       "version_minor": 0
      },
      "text/plain": [
       "Epoch 49/50 [V]:   0%|          | 0/149 [00:00<?, ?it/s]"
      ]
     },
     "metadata": {},
     "output_type": "display_data"
    },
    {
     "name": "stdout",
     "output_type": "stream",
     "text": [
      "Saved fixed sample to outputs/epoch_49/fixed_sample.png\n",
      "Epoch 49/50 -> Train Loss: 0.0051, Val Loss: 0.0076\n"
     ]
    },
    {
     "data": {
      "application/vnd.jupyter.widget-view+json": {
       "model_id": "ba6bb8bff48d47409acfaeb3d105239a",
       "version_major": 2,
       "version_minor": 0
      },
      "text/plain": [
       "Epoch 50/50 [T]:   0%|          | 0/613 [00:00<?, ?it/s]"
      ]
     },
     "metadata": {},
     "output_type": "display_data"
    },
    {
     "data": {
      "application/vnd.jupyter.widget-view+json": {
       "model_id": "36f4934ab49a446cab1216db8a2e34bc",
       "version_major": 2,
       "version_minor": 0
      },
      "text/plain": [
       "Epoch 50/50 [V]:   0%|          | 0/149 [00:00<?, ?it/s]"
      ]
     },
     "metadata": {},
     "output_type": "display_data"
    },
    {
     "name": "stdout",
     "output_type": "stream",
     "text": [
      "Saved fixed sample to outputs/epoch_50/fixed_sample.png\n",
      "Epoch 50/50 -> Train Loss: 0.0052, Val Loss: 0.0077\n",
      "Training finished.\n"
     ]
    }
   ],
   "source": [
    "import cv2\n",
    "import numpy as np\n",
    "import torch\n",
    "import torch.nn as nn\n",
    "import torch.optim as optim\n",
    "from torch.utils.data import Dataset, DataLoader\n",
    "from torchvision import transforms\n",
    "from torchvision.models import vgg19, VGG19_Weights\n",
    "from PIL import Image\n",
    "from tqdm.notebook import tqdm\n",
    "import os\n",
    "import random\n",
    "from skimage.exposure import match_histograms\n",
    "import matplotlib.pyplot as plt\n",
    "\n",
    "# Create directories to save outputs\n",
    "os.makedirs('outputs', exist_ok=True)\n",
    "os.makedirs('models', exist_ok=True)\n",
    "\n",
    "# --- Configuration ---\n",
    "CONFIG = {\n",
    "    \"VIDEO_PATH\": \"video.mp4\",\n",
    "    \"IMG_SIZE\": 512,\n",
    "    \"BATCH_SIZE\": 2,\n",
    "    \"EPOCHS\": 50,\n",
    "    \"LEARNING_RATE\": 1e-4,\n",
    "    \"VALIDATION_SPLIT\": 0.2,\n",
    "    \"NUM_CONTEXT_FRAMES\": 4,\n",
    "    \"FRAME_SKIP\": 3,\n",
    "    \"MASK_SHAPES\": 5,\n",
    "    \"MAX_MASK_SIZE\": 150,\n",
    "    \"L1_LOSS_WEIGHT\": 1.0,\n",
    "    \"PERCEPTUAL_LOSS_WEIGHT\": 0.05,\n",
    "    \"INITIAL_KEYFRAME_SECONDS\": 5,  # New parameter for initial keyframe time window\n",
    "}\n",
    "\n",
    "# Set device\n",
    "DEVICE = \"cuda\" if torch.cuda.is_available() else \"cpu\"\n",
    "print(f\"Using device: {DEVICE}\")\n",
    "\n",
    "def find_crop_box(video_path, threshold=10):\n",
    "    \"\"\"Finds the bounding box of the non-black content in a video frame.\"\"\"\n",
    "    cap = cv2.VideoCapture(video_path)\n",
    "    if not cap.isOpened():\n",
    "        raise IOError(\"Cannot open video file\")\n",
    "    ret, frame = cap.read()\n",
    "    cap.release()\n",
    "    if not ret:\n",
    "        raise IOError(\"Cannot read frame from video\")\n",
    "        \n",
    "    gray = cv2.cvtColor(frame, cv2.COLOR_BGR2GRAY)\n",
    "    rows, cols = np.where(gray > threshold)\n",
    "    if len(rows) == 0 or len(cols) == 0:\n",
    "        return 0, frame.shape[0], 0, frame.shape[1]\n",
    "    \n",
    "    return np.min(rows), np.max(rows), np.min(cols), np.max(cols)\n",
    "\n",
    "def generate_random_mask(height, width, num_shapes, max_size):\n",
    "    \"\"\"Generates a random mask with various shapes.\"\"\"\n",
    "    mask = np.zeros((height, width, 1), dtype=np.uint8)\n",
    "    for _ in range(num_shapes):\n",
    "        shape_type = random.randint(0, 1)\n",
    "        x1 = random.randint(0, width - 1)\n",
    "        y1 = random.randint(0, height - 1)\n",
    "        size_x = random.randint(20, max_size)\n",
    "        size_y = random.randint(20, max_size)\n",
    "        \n",
    "        if shape_type == 0:\n",
    "            x2 = min(x1 + size_x, width)\n",
    "            y2 = min(y1 + size_y, height)\n",
    "            cv2.rectangle(mask, (x1, y1), (x2, y2), (255), -1)\n",
    "        else:\n",
    "            radius = random.randint(10, max_size // 2)\n",
    "            cv2.circle(mask, (x1, y1), radius, (255), -1)\n",
    "            \n",
    "    return mask\n",
    "\n",
    "def calculate_quality_score(frame_tensor):\n",
    "    \"\"\"Calculates a quality score for a frame based on sharpness.\"\"\"\n",
    "    gray_frame = frame_tensor[0] * 0.299 + frame_tensor[1] * 0.587 + frame_tensor[2] * 0.114\n",
    "    laplacian_kernel = torch.tensor([[[[0, 1, 0], [1, -4, 1], [0, 1, 0]]]], dtype=torch.float32).to(DEVICE)\n",
    "    laplacian = nn.functional.conv2d(gray_frame.unsqueeze(0).unsqueeze(0), laplacian_kernel, padding=1)\n",
    "    score = laplacian.var()\n",
    "    return score.item()\n",
    "\n",
    "class VideoFrameDataset(Dataset):\n",
    "    def __init__(self, frames, keyframe, crop_box, config):\n",
    "        self.frames = frames\n",
    "        self.keyframe = keyframe\n",
    "        self.crop_box = crop_box\n",
    "        self.config = config\n",
    "        self.img_size = config[\"IMG_SIZE\"]\n",
    "        self.num_context = config[\"NUM_CONTEXT_FRAMES\"]\n",
    "        self.frame_skip = config[\"FRAME_SKIP\"]\n",
    "        \n",
    "        self.transform = transforms.Compose([\n",
    "            transforms.ToTensor(),\n",
    "        ])\n",
    "\n",
    "    def __len__(self):\n",
    "        return len(self.frames) - (self.num_context * self.frame_skip)\n",
    "\n",
    "    def __getitem__(self, idx):\n",
    "        target_idx = idx + (self.num_context * self.frame_skip)\n",
    "        \n",
    "        target_frame_pil = Image.fromarray(cv2.cvtColor(self.frames[target_idx], cv2.COLOR_BGR2RGB))\n",
    "        target_tensor = self.transform(target_frame_pil)\n",
    "        \n",
    "        context_tensors = []\n",
    "        for i in range(self.num_context):\n",
    "            context_idx = target_idx - ((i + 1) * self.frame_skip)\n",
    "            frame_pil = Image.fromarray(cv2.cvtColor(self.frames[context_idx], cv2.COLOR_BGR2RGB))\n",
    "            context_tensors.append(self.transform(frame_pil))\n",
    "        \n",
    "        keyframe_pil = Image.fromarray(cv2.cvtColor(self.keyframe, cv2.COLOR_BGR2RGB))\n",
    "        target_pil = Image.fromarray(cv2.cvtColor(self.frames[target_idx], cv2.COLOR_BGR2RGB))\n",
    "        keyframe_np = np.array(keyframe_pil)\n",
    "        target_np = np.array(target_pil)\n",
    "        matched_keyframe = match_histograms(keyframe_np, target_np, channel_axis=-1)\n",
    "        keyframe_pil = Image.fromarray(matched_keyframe)\n",
    "        keyframe_tensor = self.transform(keyframe_pil) * 0.5\n",
    "        \n",
    "        mask_np = generate_random_mask(self.img_size, self.img_size, self.config[\"MASK_SHAPES\"], self.config[\"MAX_MASK_SIZE\"])\n",
    "        mask_tensor = transforms.functional.to_tensor(mask_np)\n",
    "\n",
    "        masked_target_tensor = target_tensor * (1 - mask_tensor)\n",
    "        \n",
    "        input_stack = context_tensors[::-1] + [masked_target_tensor, keyframe_tensor]\n",
    "        input_tensor = torch.cat(input_stack, dim=0)\n",
    "\n",
    "        return input_tensor, mask_tensor, target_tensor\n",
    "\n",
    "    def update_keyframe(self, new_keyframe):\n",
    "        self.keyframe = new_keyframe\n",
    "\n",
    "class InpaintingLoss(nn.Module):\n",
    "    def __init__(self, perceptual_weight=0.1, l1_weight=1.0):\n",
    "        super().__init__()\n",
    "        self.l1_loss = nn.L1Loss()\n",
    "        self.perceptual_loss = PerceptualLoss()\n",
    "        self.perceptual_weight = perceptual_weight\n",
    "        self.l1_weight = l1_weight\n",
    "\n",
    "    def forward(self, generated_img, ground_truth_img, masks):\n",
    "        masked_loss = self.l1_loss(generated_img * masks, ground_truth_img * masks)\n",
    "        unmasked_loss = self.l1_loss(generated_img * (1 - masks), ground_truth_img * (1 - masks))\n",
    "        perceptual = self.perceptual_loss(generated_img, ground_truth_img)\n",
    "        \n",
    "        total_loss = (self.l1_weight * masked_loss) + (self.perceptual_weight * perceptual) + (0.1 * unmasked_loss)\n",
    "        return total_loss\n",
    "\n",
    "class PerceptualLoss(nn.Module):\n",
    "    def __init__(self):\n",
    "        super().__init__()\n",
    "        vgg = vgg19(weights=VGG19_Weights.DEFAULT).features.to(DEVICE).eval()\n",
    "        self.features = nn.Sequential(*list(vgg.children())[:35])\n",
    "        for param in self.features.parameters():\n",
    "            param.requires_grad = False\n",
    "        self.loss = nn.L1Loss()\n",
    "\n",
    "    def forward(self, generated, ground_truth):\n",
    "        gen_features = self.features(generated)\n",
    "        gt_features = self.features(ground_truth)\n",
    "        return self.loss(gen_features, gt_features)\n",
    "\n",
    "class FFC(nn.Module):\n",
    "    def __init__(self, in_channels, out_channels, kernel_size, ratio_gin, ratio_gout, stride=1, padding=0):\n",
    "        super().__init__()\n",
    "        self.in_channels = in_channels\n",
    "        self.out_channels = out_channels\n",
    "        self.ratio_gin = ratio_gin\n",
    "        self.ratio_gout = ratio_gout\n",
    "        \n",
    "        self.in_local = int(self.in_channels * (1 - ratio_gin))\n",
    "        self.in_global = self.in_channels - self.in_local\n",
    "        self.out_local = int(self.out_channels * (1 - ratio_gout))\n",
    "        self.out_global = self.out_channels - self.out_local\n",
    "\n",
    "        if self.in_local > 0 and self.out_local > 0:\n",
    "            self.conv_l = nn.Conv2d(self.in_local, self.out_local, kernel_size, stride, padding, bias=False)\n",
    "        else:\n",
    "            self.conv_l = None\n",
    "        \n",
    "        if self.in_global > 0 and self.out_global > 0:\n",
    "            self.conv_g = nn.Conv2d(self.in_global * 2, self.out_global * 2, kernel_size=1, bias=False)\n",
    "        else:\n",
    "            self.conv_g = None\n",
    "\n",
    "    def forward(self, x):\n",
    "        batch_size, _, height, width = x.shape\n",
    "        \n",
    "        if self.in_global == 0 and self.conv_l is not None:\n",
    "            return self.conv_l(x)\n",
    "        \n",
    "        if self.in_local == 0 and self.conv_g is not None:\n",
    "            fft_g = torch.fft.rfft2(x, norm='ortho')\n",
    "            fft_g_real_imag = torch.cat([fft_g.real, fft_g.imag], dim=1)\n",
    "            ffc_out_real_imag = self.conv_g(fft_g_real_imag)\n",
    "            ffc_out_real, ffc_out_imag = torch.split(ffc_out_real_imag, self.out_global, dim=1)\n",
    "            fft_g = torch.complex(ffc_out_real, ffc_out_imag)\n",
    "            return torch.fft.irfft2(fft_g, s=(height, width), norm='ortho')\n",
    "        \n",
    "        x_l, x_g = torch.split(x, [self.in_local, self.in_global], dim=1)\n",
    "\n",
    "        out_l = self.conv_l(x_l) if self.conv_l is not None else None\n",
    "\n",
    "        out_g = None\n",
    "        if self.conv_g is not None:\n",
    "            fft_g = torch.fft.rfft2(x_g, norm='ortho')\n",
    "            fft_g_real_imag = torch.cat([fft_g.real, fft_g.imag], dim=1)\n",
    "            ffc_out_real_imag = self.conv_g(fft_g_real_imag)\n",
    "            ffc_out_real, ffc_out_imag = torch.split(ffc_out_real_imag, self.out_global, dim=1)\n",
    "            fft_g = torch.complex(ffc_out_real, ffc_out_imag)\n",
    "            out_g = torch.fft.irfft2(fft_g, s=(height, width), norm='ortho')\n",
    "\n",
    "        if out_l is not None and out_g is not None:\n",
    "            return torch.cat([out_l, out_g], dim=1)\n",
    "        elif out_l is not None:\n",
    "            return out_l\n",
    "        elif out_g is not None:\n",
    "            return out_g\n",
    "        else:\n",
    "            return torch.zeros(batch_size, self.out_channels, height, width, device=x.device)\n",
    "\n",
    "class FFC_BN_ACT(nn.Module):\n",
    "    def __init__(self, in_channels, out_channels, kernel_size,\n",
    "                 ratio_gin=0.75, ratio_gout=0.75, stride=1, padding=0):\n",
    "        super().__init__()\n",
    "        self.ffc = FFC(in_channels, out_channels, kernel_size, ratio_gin, ratio_gout, stride, padding)\n",
    "        self.bn = nn.BatchNorm2d(out_channels)\n",
    "        self.act = nn.ReLU(inplace=True)\n",
    "\n",
    "    def forward(self, x):\n",
    "        x = self.ffc(x)\n",
    "        x = self.bn(x)\n",
    "        x = self.act(x)\n",
    "        return x\n",
    "\n",
    "class LaMaUNet(nn.Module):\n",
    "    def __init__(self, n_channels=18, n_classes=3, bilinear=True):\n",
    "        super().__init__()\n",
    "        ratio = 0.75\n",
    "\n",
    "        self.inc = nn.Sequential(\n",
    "            FFC_BN_ACT(n_channels, 64, kernel_size=3, padding=1, ratio_gin=0, ratio_gout=0),\n",
    "            FFC_BN_ACT(64, 64, kernel_size=3, padding=1, ratio_gin=ratio, ratio_gout=ratio)\n",
    "        )\n",
    "        self.down1 = nn.Sequential(\n",
    "            nn.MaxPool2d(2),\n",
    "            FFC_BN_ACT(64, 128, kernel_size=3, padding=1, ratio_gin=ratio, ratio_gout=ratio),\n",
    "            FFC_BN_ACT(128, 128, kernel_size=3, padding=1, ratio_gin=ratio, ratio_gout=ratio)\n",
    "        )\n",
    "        self.down2 = nn.Sequential(\n",
    "            nn.MaxPool2d(2),\n",
    "            FFC_BN_ACT(128, 256, kernel_size=3, padding=1, ratio_gin=ratio, ratio_gout=ratio),\n",
    "            FFC_BN_ACT(256, 256, kernel_size=3, padding=1, ratio_gin=ratio, ratio_gout=ratio)\n",
    "        )\n",
    "        self.bottleneck = nn.Sequential(\n",
    "            nn.MaxPool2d(2),\n",
    "            FFC_BN_ACT(256, 512, kernel_size=3, padding=1, ratio_gin=ratio, ratio_gout=ratio),\n",
    "            FFC_BN_ACT(512, 512, kernel_size=3, padding=1, ratio_gin=ratio, ratio_gout=ratio),\n",
    "            FFC_BN_ACT(512, 256, kernel_size=3, padding=1, ratio_gin=ratio, ratio_gout=ratio)\n",
    "        )\n",
    "\n",
    "        self.up1 = nn.Upsample(scale_factor=2, mode='bilinear' if bilinear else 'nearest')\n",
    "        self.conv1 = nn.Sequential(\n",
    "            FFC_BN_ACT(512, 256, kernel_size=3, padding=1, ratio_gin=ratio, ratio_gout=ratio),\n",
    "            FFC_BN_ACT(256, 128, kernel_size=3, padding=1, ratio_gin=ratio, ratio_gout=ratio),\n",
    "        )\n",
    "\n",
    "        self.up2 = nn.Upsample(scale_factor=2, mode='bilinear' if bilinear else 'nearest')\n",
    "        self.conv2 = nn.Sequential(\n",
    "            FFC_BN_ACT(256, 128, kernel_size=3, padding=1, ratio_gin=ratio, ratio_gout=ratio),\n",
    "            FFC_BN_ACT(128, 64, kernel_size=3, padding=1, ratio_gin=ratio, ratio_gout=ratio),\n",
    "        )\n",
    "\n",
    "        self.up3 = nn.Upsample(scale_factor=2, mode='bilinear' if bilinear else 'nearest')\n",
    "        self.conv3 = nn.Sequential(\n",
    "            FFC_BN_ACT(128, 64, kernel_size=3, padding=1, ratio_gin=ratio, ratio_gout=ratio),\n",
    "            nn.Conv2d(64, n_classes, kernel_size=3, padding=1)\n",
    "        )\n",
    "\n",
    "    def forward(self, x):\n",
    "        x1 = self.inc(x)\n",
    "        x2 = self.down1(x1)\n",
    "        x3 = self.down2(x2)\n",
    "        \n",
    "        x_bottle = self.bottleneck(x3)\n",
    "\n",
    "        u1 = self.up1(x_bottle)\n",
    "        c1 = torch.cat([u1, x3], dim=1)\n",
    "        d1 = self.conv1(c1)\n",
    "\n",
    "        u2 = self.up2(d1)\n",
    "        c2 = torch.cat([u2, x2], dim=1)\n",
    "        d2 = self.conv2(c2)\n",
    "\n",
    "        u3 = self.up3(d2)\n",
    "        c3 = torch.cat([u3, x1], dim=1)\n",
    "        d3 = self.conv3(c3)\n",
    "\n",
    "        return torch.sigmoid(d3)\n",
    "\n",
    "print(\"Loading and preprocessing video frames...\")\n",
    "y_min, y_max, x_min, x_max = find_crop_box(CONFIG[\"VIDEO_PATH\"])\n",
    "cap = cv2.VideoCapture(CONFIG[\"VIDEO_PATH\"])\n",
    "all_frames = []\n",
    "while True:\n",
    "    ret, frame = cap.read()\n",
    "    if not ret:\n",
    "        break\n",
    "    cropped_frame = frame[y_min:y_max, x_min:x_max]\n",
    "    resized_frame = cv2.resize(cropped_frame, (CONFIG[\"IMG_SIZE\"], CONFIG[\"IMG_SIZE\"]), interpolation=cv2.INTER_AREA)\n",
    "    all_frames.append(resized_frame)\n",
    "cap.release()\n",
    "print(f\"Loaded {len(all_frames)} frames.\")\n",
    "\n",
    "# Get frame rate to estimate initial keyframe range\n",
    "fps = cap.get(cv2.CAP_PROP_FPS) if cap.isOpened() else 30.0  # Default to 30 FPS if unavailable\n",
    "initial_frame_count = int(CONFIG[\"INITIAL_KEYFRAME_SECONDS\"] * fps)\n",
    "initial_frames = all_frames[:min(initial_frame_count, len(all_frames))]\n",
    "\n",
    "split_idx = int(len(all_frames) * (1 - CONFIG[\"VALIDATION_SPLIT\"]))\n",
    "train_frames = all_frames[:split_idx]\n",
    "val_frames = all_frames[split_idx:]\n",
    "\n",
    "print(\"Finding initial best keyframe from first few seconds...\")\n",
    "best_keyframe = None\n",
    "best_score = -1\n",
    "for frame_np in initial_frames:\n",
    "    frame_tensor = transforms.ToTensor()(Image.fromarray(cv2.cvtColor(frame_np, cv2.COLOR_BGR2RGB))).to(DEVICE)\n",
    "    score = calculate_quality_score(frame_tensor)\n",
    "    if score > best_score:\n",
    "        best_score = score\n",
    "        best_keyframe = frame_np\n",
    "print(f\"Initial keyframe found with sharpness score: {best_score:.2f} from first {CONFIG['INITIAL_KEYFRAME_SECONDS']} seconds\")\n",
    "\n",
    "train_dataset = VideoFrameDataset(train_frames, best_keyframe, (y_min, y_max, x_min, x_max), CONFIG)\n",
    "val_dataset = VideoFrameDataset(val_frames, best_keyframe, (y_min, y_max, x_min, x_max), CONFIG)\n",
    "\n",
    "train_loader = DataLoader(train_dataset, batch_size=CONFIG[\"BATCH_SIZE\"], shuffle=True, num_workers=2)\n",
    "val_loader = DataLoader(val_dataset, batch_size=CONFIG[\"BATCH_SIZE\"], shuffle=False, num_workers=2)\n",
    "\n",
    "model = LaMaUNet(n_channels=18, n_classes=3).to(DEVICE)\n",
    "criterion = InpaintingLoss(perceptual_weight=CONFIG[\"PERCEPTUAL_LOSS_WEIGHT\"], l1_weight=CONFIG[\"L1_LOSS_WEIGHT\"]).to(DEVICE)\n",
    "optimizer = optim.Adam(model.parameters(), lr=CONFIG[\"LEARNING_RATE\"])\n",
    "\n",
    "for epoch in range(CONFIG[\"EPOCHS\"]):\n",
    "    model.train()\n",
    "    train_loss = 0.0\n",
    "    progress_bar = tqdm(train_loader, desc=f\"Epoch {epoch+1}/{CONFIG['EPOCHS']} [T]\")\n",
    "    for inputs, masks, truths in progress_bar:\n",
    "        inputs, masks, truths = inputs.to(DEVICE), masks.to(DEVICE), truths.to(DEVICE)\n",
    "        \n",
    "        optimizer.zero_grad()\n",
    "        outputs = model(inputs)\n",
    "        \n",
    "        loss = criterion(outputs, truths, masks)\n",
    "        \n",
    "        loss.backward()\n",
    "        optimizer.step()\n",
    "        \n",
    "        train_loss += loss.item()\n",
    "        progress_bar.set_postfix(loss=loss.item())\n",
    "        \n",
    "    avg_train_loss = train_loss / len(train_loader)\n",
    "\n",
    "    model.eval()\n",
    "    val_loss = 0.0\n",
    "    new_best_keyframe_found = False\n",
    "    with torch.no_grad():\n",
    "        progress_bar = tqdm(val_loader, desc=f\"Epoch {epoch+1}/{CONFIG['EPOCHS']} [V]\")\n",
    "        for i, (inputs, masks, truths) in enumerate(progress_bar):\n",
    "            inputs, masks, truths = inputs.to(DEVICE), masks.to(DEVICE), truths.to(DEVICE)\n",
    "            outputs = model(inputs)\n",
    "            loss = criterion(outputs, truths, masks)\n",
    "            val_loss += loss.item()\n",
    "\n",
    "            # Check for new best keyframe from the first sample of the batch\n",
    "            if i == 0:\n",
    "                for j in range(truths.size(0)):\n",
    "                    score = calculate_quality_score(truths[j])\n",
    "                    if score > best_score:\n",
    "                        best_score = score\n",
    "                        best_keyframe_tensor = truths[j].cpu()\n",
    "                        best_keyframe = (best_keyframe_tensor.permute(1, 2, 0).numpy() * 255).astype(np.uint8)\n",
    "                        best_keyframe = cv2.cvtColor(best_keyframe, cv2.COLOR_RGB2BGR)\n",
    "                        new_best_keyframe_found = True\n",
    "\n",
    "            # Save fixed sample from the first batch, first sample\n",
    "            if i == 0:\n",
    "                j = 0  # Explicitly use the first sample\n",
    "                truth_img = (truths[j].cpu() * 255).clamp(0, 255).byte()\n",
    "                masked_input = (truths[j].cpu() * (1 - masks[j].cpu()) * 255).clamp(0, 255).byte()\n",
    "                output_img = (outputs[j].cpu() * 255).clamp(0, 255).byte()\n",
    "                keyframe_img = (transforms.ToTensor()(Image.fromarray(cv2.cvtColor(best_keyframe, cv2.COLOR_BGR2RGB))).cpu() * 255).clamp(0, 255).byte()\n",
    "\n",
    "                # Create 2x2 grid\n",
    "                grid = np.zeros((CONFIG[\"IMG_SIZE\"] * 2, CONFIG[\"IMG_SIZE\"] * 2, 3), dtype=np.uint8)\n",
    "                grid[:CONFIG[\"IMG_SIZE\"], :CONFIG[\"IMG_SIZE\"]] = np.array(Image.fromarray(truth_img.permute(1, 2, 0).numpy()))\n",
    "                grid[:CONFIG[\"IMG_SIZE\"], CONFIG[\"IMG_SIZE\"]:] = np.array(Image.fromarray(masked_input.permute(1, 2, 0).numpy()))\n",
    "                grid[CONFIG[\"IMG_SIZE\"]:, :CONFIG[\"IMG_SIZE\"]] = np.array(Image.fromarray(output_img.permute(1, 2, 0).numpy()))\n",
    "                grid[CONFIG[\"IMG_SIZE\"]:, CONFIG[\"IMG_SIZE\"]:] = np.array(Image.fromarray(keyframe_img.permute(1, 2, 0).numpy()))\n",
    "\n",
    "                # Save the grid with confirmation\n",
    "                output_dir = f\"outputs/epoch_{epoch+1}\"\n",
    "                os.makedirs(output_dir, exist_ok=True)\n",
    "                output_path = f\"{output_dir}/fixed_sample.png\"\n",
    "                grid_pil = Image.fromarray(grid)\n",
    "                grid_pil.save(output_path)\n",
    "                print(f\"Saved fixed sample to {output_path}\")\n",
    "\n",
    "    avg_val_loss = val_loss / len(val_loader)\n",
    "    \n",
    "    if new_best_keyframe_found:\n",
    "        print(f\"New keyframe found with score: {best_score:.2f}. Updating datasets.\")\n",
    "        train_dataset.update_keyframe(best_keyframe)\n",
    "        val_dataset.update_keyframe(best_keyframe)\n",
    "\n",
    "    print(f\"Epoch {epoch+1}/{CONFIG['EPOCHS']} -> Train Loss: {avg_train_loss:.4f}, Val Loss: {avg_val_loss:.4f}\")\n",
    "\n",
    "    torch.save(model.state_dict(), f\"models/inpainting_model_epoch_{epoch+1}.pth\")\n",
    "\n",
    "print(\"Training finished.\")"
   ]
  },
  {
   "cell_type": "code",
   "execution_count": null,
   "id": "4c8cd7e5-f1ba-452c-911d-1fc1164b403d",
   "metadata": {},
   "outputs": [],
   "source": []
  }
 ],
 "metadata": {
  "kernelspec": {
   "display_name": "Python 3 (ipykernel)",
   "language": "python",
   "name": "python3"
  },
  "language_info": {
   "codemirror_mode": {
    "name": "ipython",
    "version": 3
   },
   "file_extension": ".py",
   "mimetype": "text/x-python",
   "name": "python",
   "nbconvert_exporter": "python",
   "pygments_lexer": "ipython3",
   "version": "3.11.7"
  }
 },
 "nbformat": 4,
 "nbformat_minor": 5
}
